{
 "cells": [
  {
   "source": [
    "This is a test for the things one can do with jupyter notebooks."
   ],
   "cell_type": "markdown",
   "metadata": {}
  },
  {
   "cell_type": "code",
   "execution_count": 1,
   "metadata": {},
   "outputs": [
    {
     "output_type": "execute_result",
     "data": {
      "text/plain": [
       "4"
      ]
     },
     "metadata": {},
     "execution_count": 1
    }
   ],
   "source": [
    "2 + 2 "
   ]
  },
  {
   "cell_type": "code",
   "execution_count": 5,
   "metadata": {},
   "outputs": [
    {
     "output_type": "execute_result",
     "data": {
      "text/plain": [
       "-0.2222222222222222"
      ]
     },
     "metadata": {},
     "execution_count": 5
    }
   ],
   "source": [
    "1/9 - 2/6"
   ]
  }
 ],
 "metadata": {
  "kernelspec": {
   "display_name": "Python 3",
   "env": {},
   "interrupt_mode": "signal",
   "language": "python",
   "name": "python3"
  },
  "nikola": {
   "category": "",
   "date": "2021-06-23 20:48:01 UTC-04:00",
   "description": "",
   "link": "",
   "slug": "testing-the-waters",
   "tags": "",
   "title": "Testing the waters",
   "type": "text"
  }
 },
 "nbformat": 4,
 "nbformat_minor": 5
}