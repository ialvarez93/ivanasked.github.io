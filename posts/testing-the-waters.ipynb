{
 "cells": [
  {
   "cell_type": "markdown",
   "id": "b05d418f",
   "metadata": {},
   "source": [
    "Write your post here."
   ]
  }
 ],
 "metadata": {
  "kernelspec": {
   "display_name": "Python 3",
   "env": {},
   "interrupt_mode": "signal",
   "language": "python",
   "metadata": {},
   "name": "python3"
  },
  "nikola": {
   "category": "",
   "date": "2021-06-23 20:48:01 UTC-04:00",
   "description": "",
   "link": "",
   "slug": "testing-the-waters",
   "tags": "",
   "title": "Testing the waters",
   "type": "text"
  }
 },
 "nbformat": 4,
 "nbformat_minor": 5
}
